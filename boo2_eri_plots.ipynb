{
 "cells": [
  {
   "cell_type": "code",
   "execution_count": 53,
   "metadata": {
    "collapsed": false
   },
   "outputs": [
    {
     "name": "stdout",
     "output_type": "stream",
     "text": [
      "\n"
     ]
    }
   ],
   "source": [
    "%matplotlib inline\n",
    "import numpy as np\n",
    "from astropy.io import fits\n",
    "import matplotlib.pylab as plt\n",
    "\n",
    "## load spec data \n",
    "## header names in keck_headers.npy\n",
    "boo2list = fits.open('alldata_Boo2.fits')\n",
    "boo2_spec = boo2list[1]\n",
    "erilist = fits.open('alldata_Eri.fits')\n",
    "eri_spec = erilist[1]\n",
    "\n",
    "## load phot data \n",
    "## id  ra  dec  g  gerr  r  rerr  chi  sharp  rd  l  b  egr  ag  ar\n",
    "boo2_phot = np.genfromtxt('boo2_marla.db') \n",
    "eri_phot = np.genfromtxt('eridanus_marla.db')\n",
    "\n",
    "## load MW contaminant file\n",
    "## Dist Mv CL Typ LTef logg Age Mass u-g g-r r-i i-z u mux muy Vr UU VV WW [Fe/H] l b Av Mbol\n",
    "def mw_contaminant_cmd(mwfile):\n",
    "    mw = np.genfromtxt(mwfile, usecols = (0,8,9,12))\n",
    "    mw_mu = mw[:,3] \n",
    "    mw_mg = mw_mu-mw[:,1] #g = u - (u-g)\n",
    "    mw_g_r = mw[:,2]\n",
    "    mw_mr = mw_mg - mw_g_r #r = g - (g-r)\n",
    "    return mw_mr, mw_g_r\n",
    "\n",
    "## import Padova 2002 isochrones\n",
    "## each of these has an age of 12 Gyr\n",
    "## Kroupa IMF\n",
    "## I used the default TP-AGB model, PARSEC version 1.2S\n",
    "## Z log(age/yr) M_ini M_act logL/Lo logTe logG mbol u g r i z int_IMF stage\n",
    "isochrone_1_1 = np.genfromtxt('isochrone_12gyr_fe_h_1_1.dat') #[Fe/H] = -1.1\n",
    "isochrone_1_2 = np.genfromtxt('isochrone_12gyr_fe_h_1_2.dat') #[Fe/H] = -1.5\n",
    "isochrone_1_5 = np.genfromtxt('isochrone_12gyr_fe_h_1_5.dat') #[Fe/H] = -1.5\n",
    "isochrone_1_9 = np.genfromtxt('isochrone_12gyr_fe_h_1_9.dat') #[Fe/H] = -1.9\n",
    "\n",
    "# ## tried version with Girardi (2000) AGB model - it's bad\n",
    "# isochrone_1_1 = np.genfromtxt('isochrone_12gyr_fe_h_1_1_girardi_agb.dat',usecols=np.arange(13)) #[Fe/H] = -1.1\n",
    "# isochrone_1_2 = np.genfromtxt('isochrone_12gyr_fe_h_1_2_girardi_agb.dat',usecols=np.arange(13)) #[Fe/H] = -1.5\n",
    "# isochrone_1_5 = np.genfromtxt('isochrone_12gyr_fe_h_1_5_girardi_agb.dat',usecols=np.arange(13)) #[Fe/H] = -1.5\n",
    "# isochrone_1_9 = np.genfromtxt('isochrone_12gyr_fe_h_1_9_girardi_agb.dat',usecols=np.arange(13)) #[Fe/H] = -1.9\n",
    "\n",
    "##Reddening corrections\n",
    "boo2_red = 0.031 \n",
    "eri_red = 0.021\n",
    "\n",
    "## Making sure two tracks on isochrones not connected\n",
    "def colour_jump(isochrone, col1, col2):\n",
    "    colour = isochrone[:,col1]-isochrone[:,col2]\n",
    "    dcol = np.zeros(colour.shape)\n",
    "    for i in xrange(len(dcol)-1):\n",
    "        dcol[i]=colour[i]-colour[i+1]\n",
    "    index = np.arange(len(dcol))\n",
    "    return min(index[dcol>0.8])+1"
   ]
  },
  {
   "cell_type": "code",
   "execution_count": 54,
   "metadata": {
    "collapsed": false
   },
   "outputs": [
    {
     "data": {
      "image/png": "[encoded data removed]",
      "text/plain": [
       "<matplotlib.figure.Figure at 0x10dba3250>"
      ]
     },
     "metadata": {},
     "output_type": "display_data"
    }
   ],
   "source": [
    "plt.rcParams['figure.figsize'] = 4, 4.5\n",
    "## plot CMD\n",
    "def plot_cmd(ra0, dec0, phot_file, spec_file, isochrone, reddening, d_kpc, distance_cut=1./6, two_branches=False):\n",
    "    # center ra and dec, convert ra from hours to degrees \n",
    "    ra = (phot_file[:,1] - ra0)*15 \n",
    "    dec = phot_file[:,2]\n",
    "    distance = np.sqrt((ra*np.cos(dec))**2+(dec- dec0)**2)\n",
    "    \n",
    "    #apply distance cut\n",
    "    g = phot_file[:,3][distance<distance_cut]\n",
    "    r = phot_file[:,5][distance<distance_cut]\n",
    "    \n",
    "    # select only points with quality 3 or above\n",
    "    # select members\n",
    "    zquality = spec_file.data['ZQUALITY']\n",
    "    mbr = spec_file.data['MEMBER'] \n",
    "    g_spec = spec_file.data['GMAG'][mbr == 1]\n",
    "    r_spec = spec_file.data['RMAG'][mbr == 1]\n",
    "    mw_g_spec = spec_file.data['GMAG'][zquality>2]\n",
    "    mw_r_spec = spec_file.data['RMAG'][zquality>2]\n",
    "\n",
    "    # extract g-r and r mag from isochrone\n",
    "    gr_iso = isochrone[:,9]-isochrone[:,10]+reddening\n",
    "    r_iso = isochrone[:,10]+5*np.log10(d_kpc)+10\n",
    "    \n",
    "    # make sure separate tracks not connected\n",
    "    split = colour_jump(isochrone, 9, 10)\n",
    "    plt.scatter(g-r, r, c='k', s=0.5, alpha = 0.75, label = 'All')\n",
    "    plt.scatter(mw_g_spec-mw_r_spec, mw_r_spec, c='k', s=12, label = 'Non-members')\n",
    "    plt.scatter(g_spec-r_spec, r_spec, c='r', lw=0.25,s=12, label = 'Members')\n",
    "    plt.plot(gr_iso[0:split], r_iso[0:split], c='k',lw=0.5)\n",
    "    if two_branches==True:\n",
    "        plt.plot(gr_iso[split:], r_iso[split:], c='k',lw=0.5)\n",
    "    plt.xlabel('g-r')\n",
    "    plt.ylabel('r')\n",
    "    plt.legend(loc=2)\n",
    "    plt.xlim(-0.5,1)\n",
    "    plt.ylim(24,16)\n",
    "\n",
    "plot_cmd(13.9676111, 12.8552778, boo2_phot, boo2_spec, isochrone_1_9, reddening=boo2_red, d_kpc=42)\n",
    "plt.savefig('boo2_cmd.png')"
   ]
  },
  {
   "cell_type": "code",
   "execution_count": 55,
   "metadata": {
    "collapsed": false
   },
   "outputs": [
    {
     "name": "stdout",
     "output_type": "stream",
     "text": [
      "This isochrone could fit better at the low-L end\n"
     ]
    },
    {
     "data": {
      "image/png": "[encoded data removed]",
      "text/plain": [
       "<matplotlib.figure.Figure at 0x10d512fd0>"
      ]
     },
     "metadata": {},
     "output_type": "display_data"
    }
   ],
   "source": [
    "plot_cmd(4.4123611, -21.1875000, eri_phot, eri_spec,isochrone_1_1, reddening=eri_red, d_kpc=90., two_branches=True)\n",
    "plt.savefig('eri_cmd.png')\n",
    "print 'This isochrone could fit better at the low-L end'"
   ]
  },
  {
   "cell_type": "code",
   "execution_count": 56,
   "metadata": {
    "collapsed": false
   },
   "outputs": [
    {
     "data": {
      "image/png": "[encoded data removed]",
      "text/plain": [
       "<matplotlib.figure.Figure at 0x10f5a5b90>"
      ]
     },
     "metadata": {},
     "output_type": "display_data"
    }
   ],
   "source": [
    "def plot_velocities(spec_file, mwfile, xmin, xmax, ymax, yticks, nbins):\n",
    "    #read velocities from the Keck file\n",
    "    mbr = spec_file.data['MEMBER'] \n",
    "    v_mbr = (spec_file.data['VCORR'])[mbr == 1]\n",
    "    v_other = (spec_file.data['VCORR'])[mbr != 1]\n",
    "    \n",
    "    #read the MW contaminant file\n",
    "    mw_mr, mw_g_r = mw_contaminant_cmd(mwfile)\n",
    "    v_mw = np.genfromtxt(mwfile, usecols=(15))[(mw_mr>17)*(mw_mr<22)] \n",
    "    vhist_mbr, vbins = np.histogram(v_mbr, range=(xmin, xmax), bins=nbins)\n",
    "    vhist_other, vbins = np.histogram(v_other, range=(xmin, xmax), bins=nbins)\n",
    "    vhist_mw, vbins = np.histogram(v_mw, range=(xmin, xmax), bins=nbins)\n",
    "    \n",
    "    #scale the MW histogram so total count matches observed contaminants\n",
    "    n = sum(vhist_mw) \n",
    "    mw_scaled = vhist_mw*sum(vhist_other)/float(n)\n",
    "    plt.plot(vbins[1:], vhist_other, c='k', alpha=0.75, ls='steps',label='Non-members')\n",
    "    plt.plot(vbins[1:], mw_scaled, c='b', alpha=0.75, label='MW fit')\n",
    "    plt.plot(vbins[1:], vhist_mbr, c='r', ls='steps',label='Members')    \n",
    "    plt.ylim(0,ymax)\n",
    "    plt.yticks(np.arange(0,ymax,yticks))\n",
    "    plt.ylabel(r'N$_{stars}$')\n",
    "    plt.xlabel(r'Velocity (km s$^{-1}$)')\n",
    "\n",
    "plot_velocities(boo2_spec, 'mw_boo2.dat',-200,100,8.5,2,60)\n",
    "plt.savefig('boo2_vel.png')"
   ]
  },
  {
   "cell_type": "code",
   "execution_count": 57,
   "metadata": {
    "collapsed": false
   },
   "outputs": [
    {
     "data": {
      "image/png": "[encoded data removed]",
      "text/plain": [
       "<matplotlib.figure.Figure at 0x111a696d0>"
      ]
     },
     "metadata": {},
     "output_type": "display_data"
    }
   ],
   "source": [
    "plot_velocities(eri_spec, 'mw_eri.dat',xmin=-100, xmax = 200, ymax=25.01, yticks=5, nbins=60)\n",
    "plt.savefig('eri_vel.png')\n",
    "#add milky way contaminants curve "
   ]
  },
  {
   "cell_type": "markdown",
   "metadata": {},
   "source": [
    "Mass is calculated either Wolf+ (2010) formula: 3*(sigma^2)*r/G \n",
    "\n",
    "or: M(1/2)=930M(sun)*(sigma^2)*r(1/2) \n",
    "\n",
    "Above formulae use a 3D velocity dispersion calculated using the method in Walker (2006). \n",
    "\n",
    "We work directly with line-of-sight velocity dispersion, so that: \n",
    "\n",
    "M = 4*(sigma_los^2)*r/G"
   ]
  },
  {
   "cell_type": "code",
   "execution_count": 59,
   "metadata": {
    "collapsed": false
   },
   "outputs": [],
   "source": [
    "#calculate mass, mass-to-light ratio\n",
    "#propagate asymmetric errors\n",
    "G = 6.67e-11 #SI units\n",
    "\n",
    "#calculating mass using Wolf+ 2010 formula\n",
    "def mass(sigma, r_eff, projected=True):\n",
    "    #convert to SI units\n",
    "    sigma0 = sigma[0]*1000 #km/s to m/s\n",
    "    r_eff0 = r_eff[0]*3.0857e16 #pc to m\n",
    "    m_kg = 4*(sigma0**2)*r_eff0/G\n",
    "    if projected == False:\n",
    "        m_kg*=3./4\n",
    "    m_sol = m_kg/1.9891e30 #solar masses\n",
    "    \n",
    "    # errors added in quadrature\n",
    "    err_plus = m_sol*np.sqrt((2*sigma[1]/sigma[0])**2+(r_eff[1]/r_eff[0])**2)\n",
    "    err_minus = m_sol*np.sqrt((2*sigma[2]/sigma[0])**2+(r_eff[2]/r_eff[0])**2) \n",
    "    return [m_sol, err_plus, err_minus]\n",
    "\n",
    "boo2_sigma = [4.3, 1.2, 1.2] #value, +err, -err\n",
    "boo2_r_eff = [37, 5.5, 5.5]\n",
    "boo2_L = [1614, 406, 235]\n",
    "boo2_mass = mass(boo2_sigma, boo2_r_eff)\n",
    "\n",
    "# dividing mass by luminosity\n",
    "# can specify if M/L computed in half-mass radius or not\n",
    "def mass_to_light(mass, luminosity, in_half=True):\n",
    "    m_l = float(mass[0])/luminosity[0]\n",
    "    if in_half==False:\n",
    "        m_l *= 2\n",
    "    # errors added in quadrature\n",
    "    err_plus = m_l*np.sqrt((float(mass[1])/float(mass[0]))**2+(luminosity[1]/luminosity[0])**2)\n",
    "    err_minus = m_l*np.sqrt((float(mass[2])/float(mass[0]))**2+(luminosity[2]/luminosity[0])**2)    \n",
    "    return [m_l, err_plus, err_minus]"
   ]
  },
  {
   "cell_type": "markdown",
   "metadata": {},
   "source": [
    "Now computing mass, mass-to-light and errors for our observations "
   ]
  },
  {
   "cell_type": "code",
   "execution_count": 60,
   "metadata": {
    "collapsed": false
   },
   "outputs": [
    {
     "name": "stdout",
     "output_type": "stream",
     "text": [
      "Mass:  ['6.36e+05', '3.68e+05', '3.68e+05']\n",
      "M/L:  ['394', '227', '227']\n"
     ]
    }
   ],
   "source": [
    "boo2_m_l = mass_to_light(boo2_mass, boo2_L)\n",
    "print 'Mass: ',['%0.2e' % elt for elt in boo2_mass]\n",
    "print 'M/L: ',['%i' % elt for elt in boo2_m_l]"
   ]
  },
  {
   "cell_type": "code",
   "execution_count": 61,
   "metadata": {
    "collapsed": false
   },
   "outputs": [
    {
     "name": "stdout",
     "output_type": "stream",
     "text": [
      "Mass:  ['7.61e+03', '5.01e+02', '5.01e+02']\n",
      "M/L:  ['7.75e-01', '5.11e-02', '5.11e-02']\n"
     ]
    }
   ],
   "source": [
    "eri_sigma = [0.7,0,0] #is this how to deal with an upper bound??\n",
    "eri_r_eff = [16.7, 1.1, 1.1]\n",
    "eri_L = [9817, 1187, 900]\n",
    "eri_mass = mass(eri_sigma, eri_r_eff)\n",
    "eri_m_l = mass_to_light(eri_mass, eri_L)\n",
    "print 'Mass: ', ['%0.2e' % elt for elt in eri_mass]\n",
    "print 'M/L: ', ['%0.2e' % elt for elt in eri_m_l]"
   ]
  },
  {
   "cell_type": "code",
   "execution_count": 72,
   "metadata": {
    "collapsed": false
   },
   "outputs": [
    {
     "name": "stdout",
     "output_type": "stream",
     "text": [
      "Mass:  ['5.57e+05', '2.36e+05', '2.36e+05']\n",
      "M/L:  ['236', '100', '100']\n"
     ]
    }
   ],
   "source": [
    "#test against Simon et al 2015 Ret II paper\n",
    "ret_sigma = [3.3,0.7,0.7] #is this how to deal with an upper bound??\n",
    "ret_r_eff = [55, 5, 5]\n",
    "ret_L = [2360, 217, 217]\n",
    "#dL/L = -0.92*dM = -.092\n",
    "ret_mass = mass(ret_sigma, ret_r_eff)\n",
    "ret_m_l = mass_to_light(ret_mass, ret_L)\n",
    "print 'Mass: ', ['%0.2e' % elt for elt in ret_mass]\n",
    "print 'M/L: ', ['%i' % elt for elt in ret_m_l]"
   ]
  },
  {
   "cell_type": "markdown",
   "metadata": {
    "collapsed": false
   },
   "source": [
    "Published\n",
    "\n",
    "Mass: 5.6e+5 +/- 2.4e+5\n",
    "\n",
    "M/L: 470+/-210\n",
    "\n",
    "Consistent!"
   ]
  },
  {
   "cell_type": "code",
   "execution_count": 71,
   "metadata": {
    "collapsed": false
   },
   "outputs": [
    {
     "name": "stdout",
     "output_type": "stream",
     "text": [
      "This paper only published M/L. I get:\n",
      "Using Plummer profile :  ['31', '140', '137']\n",
      "Using Exponential profile :  ['32', '146', '142']\n"
     ]
    }
   ],
   "source": [
    "#test against Fadely et al 2011 Seg 3 paper\n",
    "print 'This paper only published M/L. I get:'\n",
    "seg_sigma = [1.2,2.6,2.6] \n",
    "seg_r_eff = [2.1,0.4,0.4]\n",
    "seg_L = [89, 93, 45]\n",
    "seg_mass = mass(seg_sigma, seg_r_eff)\n",
    "seg_m_l = mass_to_light(seg_mass, seg_L, in_half=True)\n",
    "print 'Using Plummer profile : ', ['%i' % elt for elt in seg_m_l]\n",
    "seg_r_eff = [2.2,0.7,0.7]\n",
    "seg_L = [90, 95, 56]\n",
    "seg_mass = mass(seg_sigma, seg_r_eff)\n",
    "seg_m_l = mass_to_light(seg_mass, seg_L, in_half=True)\n",
    "print 'Using Exponential profile : ', ['%i' % elt for elt in seg_m_l]"
   ]
  },
  {
   "cell_type": "markdown",
   "metadata": {
    "collapsed": false
   },
   "source": [
    "Published : [33, +156, -144]\n",
    "    \n",
    "Consistent, but not exact match. Why?"
   ]
  },
  {
   "cell_type": "code",
   "execution_count": 69,
   "metadata": {
    "collapsed": false
   },
   "outputs": [
    {
     "name": "stdout",
     "output_type": "stream",
     "text": [
      "Mass:  ['2.77e+05', '2.10e+05', '1.65e+05']\n",
      "M/L:  ['1086', '822', '645']\n"
     ]
    }
   ],
   "source": [
    "# Simon+2011 Seg 1\n",
    "# formula in paper: Wolf \n",
    "L = [340,250,188]\n",
    "r_eff = [29,8,5]\n",
    "sigma = [3.7,1.4,1.1]#or [3.4,0.9,0.9] after removing binaries, etc\n",
    "print 'Mass: ', ['%0.2e' % elt for elt in np.array(mass(sigma, r_eff, projected=False))]\n",
    "print 'M/L: ', ['%i' % elt for elt in np.array(mass_to_light(mass(sigma, r_eff), L, in_half=True))]"
   ]
  },
  {
   "cell_type": "markdown",
   "metadata": {},
   "source": [
    "This paper used a Bayesian prior to compute best fit mass and 1-sigma errors. Published:\n",
    "\n",
    "Mass: 5.8e+5 +8.6e+5 -3.1e+5 M_sun\n",
    "\n",
    "M/L: 3400 in half-light radius\n",
    "\n",
    "I don't understand how this M/L is computed"
   ]
  },
  {
   "cell_type": "code",
   "execution_count": 68,
   "metadata": {
    "collapsed": false
   },
   "outputs": [
    {
     "name": "stdout",
     "output_type": "stream",
     "text": [
      "Mass:  ['3.09e+05', '3.15e+05', '9.45e+04']\n",
      "M/L:  ['317', '879', '765']\n"
     ]
    }
   ],
   "source": [
    "#test against Koposov+ 2015 Ret II\n",
    "def M_to_L(M):\n",
    "    return pow(10,(4.77-M)/2.5)\n",
    "M = [-2.7,-2.6,-2.8]\n",
    "L_temp = M_to_L(M[0])\n",
    "L = [L_temp,L_temp*(-0.92)*M[2],L_temp*(-0.92)*M[1]]\n",
    "r_eff = [32,1.9,1.1]\n",
    "sigma = [3.22,1.64,0.49]\n",
    "print 'Mass: ', ['%0.2e' % elt for elt in mass(sigma, r_eff)]\n",
    "print 'M/L: ', ['%i' % elt for elt in mass_to_light(mass(sigma, r_eff), L, in_half=True)]"
   ]
  },
  {
   "cell_type": "markdown",
   "metadata": {},
   "source": []
  },
  {
   "cell_type": "code",
   "execution_count": 67,
   "metadata": {
    "collapsed": false
   },
   "outputs": [
    {
     "name": "stdout",
     "output_type": "stream",
     "text": [
      "mass:  ['6.70e+05', '7.72e+05', '2.57e+05']\n",
      "M/L:  ['361', '418', '142']\n"
     ]
    }
   ],
   "source": [
    "#test against Koposov+ 2015 Hor I\n",
    "M = [-3.4,-3.3,-3.5]\n",
    "L_temp = M_to_L(np.asarray(M))\n",
    "L = [L_temp[0],L_temp[2]-L_temp[0],L_temp[0]-L_temp[1]]\n",
    "r_eff = [30,4.4,3.3]\n",
    "sigma = [4.9,2.8,0.9]\n",
    "print 'Mass: ', ['%0.2e' % elt for elt in mass(sigma, r_eff)]\n",
    "print 'M/L: ', ['%i' % elt for elt in mass_to_light(mass(sigma, r_eff), L, in_half=True)]"
   ]
  },
  {
   "cell_type": "code",
   "execution_count": null,
   "metadata": {
    "collapsed": true
   },
   "outputs": [],
   "source": []
  }
 ],
 "metadata": {
  "kernelspec": {
   "display_name": "Python [Root]",
   "language": "python",
   "name": "Python [Root]"
  },
  "language_info": {
   "codemirror_mode": {
    "name": "ipython",
    "version": 2
   },
   "file_extension": ".py",
   "mimetype": "text/x-python",
   "name": "python",
   "nbconvert_exporter": "python",
   "pygments_lexer": "ipython2",
   "version": "2.7.12"
  }
 },
 "nbformat": 4,
 "nbformat_minor": 0
}
